{
  "cells": [
    {
      "cell_type": "markdown",
      "metadata": {
        "id": "oVaAea-wCM6H"
      },
      "source": [
        "# Ficha de Expressões Regulares 2"
      ]
    },
    {
      "cell_type": "markdown",
      "metadata": {
        "id": "gk5jnHXt9t4y"
      },
      "source": [
        "### Conceitos mais avançados de expressões regulares\n",
        "\n",
        "- `.` - corresponde a uma ocorrência de qualquer caracter (exceto '\\n', geralmente).\n",
        "- `\\w` - corresponde a um caracter alfanumérico (a-z, A-Z, 0-9 ou _).\n",
        "- `\\W` - corresponde a um caracter **não** alfanumérico.\n",
        "- `\\s` - corresponde a um caracter de *whitespace* (' ', '\\t', ou '\\n', por exemplo).\n",
        "- `\\S` - corresponde a um caracter que não seja *whitespace*.\n",
        "- `\\d` - corresponde a um dígito.\n",
        "- `\\D` - corresponde a um caracter que não seja um dígito.\n",
        "- `\\btot\\w+` - corresponde a uma palavra **começada** por \"tot\" (o token `\\b` representa uma *word boundary*, ou seja, o limite entre um caracter alfanumérico e outro não alfanumérico). Por outras palavras, captura a palavra \"totalidade\" mas não a palavra \"batota\". O token `\\b` também pode ser usado no fim de palavras.\n",
        "- `a(?=b)` - corresponde a um caracter `a` que tenha à sua frente um caracter `b`, mas não captura o caracter `b`. (*positive lookahead*)\n",
        "- `a(?!b)` - corresponde a um caracter `a` que **não** tenha à sua frente um caracter `b`, mas não captura o caracter seguinte. (*negative lookahead*)\n",
        "- `a(?<=b)` - corresponde a um caracter `a` que tenha atrás de si um caracter `b`, mas não captura o caracter `b`. (*positive lookbehind*)\n",
        "- `a(?<!b)` - corresponde a um caracter `a` que **não** tenha atrás de si um caracter `b`, mas não captura o caracter anterior. (*negative lookbehind*)\n"
      ]
    },
    {
      "cell_type": "markdown",
      "metadata": {
        "id": "lTaHmSRMMmvI"
      },
      "source": [
        "Podemos usar *grupos de captura* em expressões regulares para isolar segmentos da string capturada. Usamos parênteses para definir grupos de captura."
      ]
    },
    {
      "cell_type": "code",
      "execution_count": null,
      "metadata": {
        "colab": {
          "base_uri": "https://localhost:8080/"
        },
        "id": "1Aig805EMion",
        "outputId": "9178ca8e-7ac0-4633-9358-78bf73b2ea1e"
      },
      "outputs": [
        {
          "name": "stdout",
          "output_type": "stream",
          "text": [
            "('13', '49')\n",
            "13:49\n",
            "13\n"
          ]
        }
      ],
      "source": [
        "import re\n",
        "m = re.search(r'(2[0-3]|[0-1][0-9]):([0-5][0-9])', \"13:49\")\n",
        "\n",
        "print(m.groups()) # conjunto dos grupos de captura\n",
        "print(m.group(0)) # toda a string capturada\n",
        "print(m.group(1)) # o primeiro grupo de captura"
      ]
    },
    {
      "cell_type": "markdown",
      "metadata": {
        "id": "WxIEoiMdNPkq"
      },
      "source": [
        "O módulo re possui ainda *flags* que podemos usar nas suas funções. As mais úteis são:\n",
        "\n",
        "- `re.I` ou `re.IGNORECASE`: faz uma correspondência *case insensitive*.\n",
        "- `re.M` ou `re.MULTILINE`: os tokens de âncora `^` e `$` passam a corresponder ao início/fim de cada linha, em vez do início/fim de uma string.\n",
        "- `re.S` ou `re.DOTALL`: o token `.` passa a corresponder também a um caracter `\\n`.\n",
        "\n",
        "Podemos usar estas flags da seguinte forma: `re.search(r'trans.*mar', \"TRANSF\\nORMAR\", re.I | re.S)`"
      ]
    },
    {
      "cell_type": "markdown",
      "metadata": {
        "id": "0z3asvbtZijn"
      },
      "source": [
        "## Exercício 1 - Conversão de datas\n",
        "\n",
        "Define a função `iso_8601` que converte as datas presentes numa string no formato DD/MM/AAAA para o formato ISO 8601 - AAAA-MM-DD, usando expressões regulares e grupos de captura."
      ]
    },
    {
      "cell_type": "code",
      "execution_count": 268,
      "metadata": {
        "id": "VZXeGvw7aLIG"
      },
      "outputs": [
        {
          "name": "stdout",
          "output_type": "stream",
          "text": [
            "A 2022-01-03, Pedro viajou para a praia com a sua família.\n",
            "Eles ficaram hospedados num hotel e aproveitaram o sol e o mar durante toda a semana.\n",
            "Mais tarde, no dia 2022-01-12, Pedro voltou para casa e começou a trabalhar num novo projeto.\n",
            "Ele passou muitas horas no escritório, mas finalmente terminou o projeto a 2022-01-15.\n"
          ]
        }
      ],
      "source": [
        "texto = \"\"\"A 03/01/2022, Pedro viajou para a praia com a sua família.\n",
        "Eles ficaram hospedados num hotel e aproveitaram o sol e o mar durante toda a semana.\n",
        "Mais tarde, no dia 12/01/2022, Pedro voltou para casa e começou a trabalhar num novo projeto.\n",
        "Ele passou muitas horas no escritório, mas finalmente terminou o projeto a 15/01/2022.\"\"\"\n",
        "\n",
        "import re\n",
        "\n",
        "def iso_8601(text: str):\n",
        "  pattern = re.compile(r\"(?P<day>\\d{2})/(?P<month>\\d{2})/(?P<year>\\d{4})\")\n",
        "  return pattern.sub(lambda m: f\"{m.group('year')}-{m.group('month')}-{m.group('day')}\", text)\n",
        "\n",
        "print(iso_8601(texto))"
      ]
    },
    {
      "cell_type": "markdown",
      "metadata": {
        "id": "WscyvBdMY8ic"
      },
      "source": [
        "## Exercício 2 - Validação de ficheiros\n",
        "\n",
        "Escreve um programa que lê uma lista de nomes de ficheiros e determina se cada nome é válido ou não. O nome de um ficheiro deve conter apenas caracteres alfanuméricos, hífens, underscores ou pontos, seguido de uma extensão (e.g., \".txt\", \".png\", etc.)."
      ]
    },
    {
      "cell_type": "code",
      "execution_count": 116,
      "metadata": {
        "id": "uUAouM4MZkF6"
      },
      "outputs": [
        {
          "name": "stdout",
          "output_type": "stream",
          "text": [
            "True\n",
            "False\n",
            "True\n",
            "True\n",
            "True\n",
            "False\n",
            "True\n",
            "True\n",
            "False\n",
            "False\n"
          ]
        }
      ],
      "source": [
        "file_names = [\n",
        "  \"document.txt\", # válido\n",
        "  \"file name.docx\", # inválido\n",
        "  \"image_001.jpg\", # válido\n",
        "  \"script.sh.txt\", # válido \n",
        "  \"test_file.txt\", # válido\n",
        "  \"file_name.\", # inválido\n",
        "  \"my_resume.docx\", # válido\n",
        "  \".hidden-file.txt\", # válido\n",
        "  \"important-file.text file\", # inválido --\n",
        "  \"file%name.jpg\" # inválido \n",
        "]\n",
        "\n",
        "def valid_filename(filename: str):\n",
        "  pattern = re.compile(r\"[\\.\\w+\\-\\_]+(\\.\\w+)\")\n",
        "  return pattern.fullmatch(filename) != None\n",
        "\n",
        "for filename in file_names:\n",
        "  print(valid_filename(filename))"
      ]
    },
    {
      "cell_type": "markdown",
      "metadata": {
        "id": "keqnY2BFZkvR"
      },
      "source": [
        "### Alínea 2.1\n",
        "\n",
        "Modifica o programa anterior para colocar os nomes de ficheiro válidos num dicionário, no qual as chaves deverão ser as extensões dos mesmos. Por outras palavras, agrupa os ficheiros por extensão."
      ]
    },
    {
      "cell_type": "code",
      "execution_count": 138,
      "metadata": {
        "id": "zdJMjdJsZ6FZ"
      },
      "outputs": [
        {
          "name": "stdout",
          "output_type": "stream",
          "text": [
            "{'.txt': ['document.txt', 'script.sh.txt', 'test_file.txt', '.hidden-file.txt'], '.jpg': ['image_001.jpg'], '.docx': ['my_resume.docx']}\n"
          ]
        }
      ],
      "source": [
        "def validate_filename_dict(filenames: list):\n",
        "  ext = re.compile(r\"[\\.\\w+\\-\\_]+(?P<extension>\\.\\w+)\")\n",
        "  res = dict()\n",
        "  for filename in file_names:\n",
        "    if valid_filename(filename) == True:\n",
        "      if match := ext.search(filename):\n",
        "        m_dict = match.groupdict()\n",
        "        if m_dict[\"extension\"] not in res.keys():\n",
        "          res[m_dict[\"extension\"]] = [filename]\n",
        "        else:\n",
        "          val = res.get(m_dict[\"extension\"])\n",
        "          val.append(filename)\n",
        "          res[m_dict[\"extension\"]] = val\n",
        "  \n",
        "  return res\n",
        "\n",
        "print(validate_filename_dict(file_names))"
      ]
    },
    {
      "cell_type": "markdown",
      "metadata": {
        "id": "a40c7yfabZOZ"
      },
      "source": [
        "## Exercício 3 - Conversão de nomes\n",
        "\n",
        "Escreve um filtro de texto que converte cada nome completo de uma pessoa encontrada num texto fonte, no formato `PrimeiroNome SegundoNome [...] UltimoNome` para o formato `UltimoNome, PrimeiroNome`. Por exemplo, \"Rui Vieira de Castro\" passa a \"Castro, Rui\". Atenção aos conectores \"de\", \"dos\", etc."
      ]
    },
    {
      "cell_type": "code",
      "execution_count": 278,
      "metadata": {
        "id": "aYONUP3BcAdf"
      },
      "outputs": [
        {
          "name": "stdout",
          "output_type": "stream",
          "text": [
            "Este texto foi feito por Santos, Sofia, com \n",
            "base no texto original de Moura, Pedro, com a ajuda\n",
            "dos professores Almeida, Pedro.\n",
            "Apesar de partilharem o mesmo apelido, a Sofia não é da mesma família do famoso\n",
            "autor Santos, José.\n"
          ]
        }
      ],
      "source": [
        "texto = \"\"\"Este texto foi feito por Sofia Guilherme Rodrigues dos Santos, com \n",
        "base no texto original de Pedro Rafael Paiva Moura, com a ajuda\n",
        "dos professores Pedro Rangel Henriques e José João Antunes Guimarães Dias De Almeida.\n",
        "Apesar de partilharem o mesmo apelido, a Sofia não é da mesma família do famoso\n",
        "autor José Rodrigues dos Santos.\"\"\"\n",
        "\n",
        "def sub_name(text: str):\n",
        "  pattern = re.compile(r\" [A-Z]\\w+ [\\w \\w]* [A-Z]\\w+\")\n",
        "  return pattern.sub(lambda m: f\"{' '+m.group(0).split(' ')[-1] + ', '  + m.group(0).split(' ')[1]}\",text)\n",
        "    \n",
        "print(sub_name(texto))"
      ]
    },
    {
      "cell_type": "markdown",
      "metadata": {
        "id": "7mMTNkFUm7lV"
      },
      "source": [
        "## Exercício 4 - Códigos postais 2\n",
        "\n",
        "Define uma função `codigos_postais` que recebe uma lista de códigos postais e divide-os com base no hífen. Ao contrário do exercício da ficha anterior, esta função pode receber códigos postais inválidos. A função deve devolver uma lista de pares e apenas processar cada linha uma vez."
      ]
    },
    {
      "cell_type": "code",
      "execution_count": 295,
      "metadata": {
        "id": "rvxXocYpnqlX"
      },
      "outputs": [
        {
          "name": "stdout",
          "output_type": "stream",
          "text": [
            "[('4700', '000'), ('1234', '567'), ('9481', '025')]\n"
          ]
        }
      ],
      "source": [
        "lista = [\n",
        "    \"4700-000\", # válido\n",
        "    \"9876543\", # inválido\n",
        "    \"1234-567\", # válido\n",
        "    \"8x41-5a3\", # inválido\n",
        "    \"84234-12\", # inválido\n",
        "    \"4583--321\", # inválido\n",
        "    \"9481-025\" # válido\n",
        "]\n",
        "\n",
        "def codigos_postais(cod_postais: list):\n",
        "    pattern = re.compile(r\"(?P<left>\\d{4})-(?P<right>\\d{3})\")\n",
        "    res = []\n",
        "    for cod_postal in cod_postais:\n",
        "        if match := pattern.match(cod_postal):\n",
        "            res.append((match.group(\"left\"),match.group(\"right\")))\n",
        "    return res\n",
        "\n",
        "print(codigos_postais(lista))\n"
      ]
    },
    {
      "cell_type": "markdown",
      "metadata": {
        "id": "m2rtSDSccn33"
      },
      "source": [
        "## Exercício 5 - Expansão de abreviaturas\n",
        "\n",
        "Escreve um filtro de texto que expanda as abreviaturas que encontrar no texto fonte no formato \"/abrev\"."
      ]
    },
    {
      "cell_type": "code",
      "execution_count": 296,
      "metadata": {},
      "outputs": [
        {
          "name": "stdout",
          "output_type": "stream",
          "text": [
            "A Unidade Curricular de Processamento de Linguagens é muito fixe! É uma Unidade Curricular que acrescenta muito ao curso de Licenciatura em Engenharia Informática da Universidade do Minho.\n"
          ]
        }
      ],
      "source": [
        "abreviaturas = {\n",
        "  \"UM\": \"Universidade do Minho\",\n",
        "  \"LEI\": \"Licenciatura em Engenharia Informática\",\n",
        "  \"UC\": \"Unidade Curricular\",\n",
        "  \"PL\": \"Processamento de Linguagens\"\n",
        "}\n",
        "\n",
        "texto = \"A /abrev{UC} de /abrev{PL} é muito fixe! É uma /abrev{UC} que acrescenta muito ao curso de /abrev{LEI} da /abrev{UM}.\"\n",
        "\n",
        "def abrev(abrevs: dict, text: str):\n",
        "    pattern = re.compile(r\"/abrev{(?P<key>\\w+)}\")\n",
        "    return pattern.sub(lambda m: f\"{abrevs.get(m.group('key'))}\",text)\n",
        "\n",
        "print(abrev(abreviaturas,texto))"
      ]
    },
    {
      "cell_type": "markdown",
      "metadata": {
        "id": "oEiMpi4FDkqm"
      },
      "source": [
        "## Exercício 6 - Matrículas\n",
        "\n",
        "Define uma função `matricula_valida` que recebe uma string de texto e determina se esta contém uma matrícula válida. Uma matrícula segue o formato AA-BB-CC, no qual dois dos três conjuntos devem ser compostos por números e o terceiro por letras maiúsculas (por exemplo, 01-AB-23), ou o novo formato no qual dois dos conjuntos são compostos por letras maiúsculas e o terceiro por números (por exemplo, 89-WX-YZ). Os conjuntos podem ser separados por um hífen ou um espaço.\n",
        "\n",
        "Extra: Garante que o mesmo separador é usado para separar os três conjuntos."
      ]
    },
    {
      "cell_type": "code",
      "execution_count": 313,
      "metadata": {
        "id": "CPR0gi10E5Dj"
      },
      "outputs": [
        {
          "name": "stdout",
          "output_type": "stream",
          "text": [
            "False\n",
            "True\n",
            "False\n",
            "True\n",
            "True\n",
            "False\n",
            "False\n",
            "False\n"
          ]
        }
      ],
      "source": [
        "matriculas = [\n",
        "    \"AA-AA-AA\", # inválida\n",
        "    \"LR-RB-32\", # válida\n",
        "    \"1234LX\", # inválida\n",
        "    \"PL 22 23\", # válida\n",
        "    \"ZZ-99-ZZ\", # válida\n",
        "    \"54-tb-34\", # inválida\n",
        "    \"12 34 56\", # inválida\n",
        "    \"42-HA BQ\" # válida, mas inválida com o requisito extra\n",
        "]\n",
        "\n",
        "def matricula_valida(text:str):\n",
        "    pattern1 = re.compile(r\"^\\d{2}[ -][A-Z]{2}[ -][A-Z]{2}$\")\n",
        "    pattern2 = re.compile(r\"^[A-Z]{2}[ -]\\d{2}[ -][A-Z]{2}$\")\n",
        "    pattern3 = re.compile(r\"^[A-Z]{2}[ -][A-Z]{2}[ -]\\d{2}$\")\n",
        "    pattern4 = re.compile(r\"^[A-Z]{2}[ -]\\d{2}[ -]\\d{2}$\")\n",
        "    pattern5 = re.compile(r\"^\\d{2}[ -][A-Z]{2}[ -]\\d{2}$\")\n",
        "    pattern6 = re.compile(r\"^\\d{2}[ -]\\d{2}[ -][A-Z]{2}$\")\n",
        "    return (pattern1.fullmatch(text) != None or pattern2.fullmatch(text) != None or pattern3.fullmatch(text) != None or pattern4.fullmatch(text) != None or pattern5.fullmatch(text) != None or pattern6.fullmatch(text) != None) and text[2] == text[5]\n",
        "\n",
        "    \n",
        "\n",
        "for matricula in matriculas:\n",
        "    print(matricula_valida(matricula))"
      ]
    },
    {
      "cell_type": "markdown",
      "metadata": {
        "id": "-_NVZEbp8xM-"
      },
      "source": [
        "## Exercício 7 - *Mad Libs*\n",
        "\n",
        "O jogo *Mad Libs*, bastante comum em países como os Estados Unidos, consiste em pegar num texto com espaços para algumas palavras e preencher esses espaços de acordo com o tipo de palavra que é pedida.\n",
        "\n",
        "Escreve um programa que lê um texto no formato *Mad Libs* e pede ao utilizador para fornecer palavras que completem corretamente o texto."
      ]
    },
    {
      "cell_type": "code",
      "execution_count": 351,
      "metadata": {
        "id": "VGX0mrL29Vgv"
      },
      "outputs": [
        {
          "name": "stdout",
          "output_type": "stream",
          "text": [
            "Num lindo dia de inverno, Carlos foi passear com o seu cão. \n",
            "Quando chegaram à China, encontraram um pilar muito grande.\n",
            "Ficaram muito confusos, pois não conseguiam identificar a função daquilo.\n",
            "Seria para voar? Tentaram perguntar a Tomas Shelby, que também não sabia.\n",
            "Desanimados, pegaram no objeto e deixaram-no no passeio mais próximo. \n",
            "Talvez os passeios de lá conseguissem encontrar alguma utilidade para aquilo.\n"
          ]
        }
      ],
      "source": [
        "texto = \"\"\"Num lindo dia de [ESTAÇÃO DO ANO], [NOME DE PESSOA] foi passear com o seu [EXPRESSÃO DE PARENTESCO MASCULINA]. \n",
        "Quando chegaram à [NOME DE LOCAL FEMININO], encontraram um [OBJETO MASCULINO] muito [ADJETIVO MASCULINO].\n",
        "Ficaram muito confusos, pois não conseguiam identificar a função daquilo.\n",
        "Seria para [VERBO INFINITIVO]? Tentaram perguntar a [NOME DE PESSOA FAMOSA], que também não sabia.\n",
        "Desanimados, pegaram no objeto e deixaram-no no [NOME DE LOCAL MASCULINO] mais próximo. \n",
        "Talvez os [NOME PLURAL MASCULINO] de lá conseguissem encontrar alguma utilidade para aquilo.\"\"\"\n",
        "\n",
        "def madlibs(text: str):\n",
        "  pattern = re.compile(r\"\\[(?P<text>.*?)\\]\")\n",
        "  return pattern.sub(lambda m: f\"{input(m.group(0))}\", text)\n",
        "  \n",
        "\n",
        "print(madlibs(texto))"
      ]
    },
    {
      "attachments": {},
      "cell_type": "markdown",
      "metadata": {
        "id": "z8HMWeua6Zc2"
      },
      "source": [
        "## Exercício 8 - Remoção de repetidos\n",
        "\n",
        "Escreve um filtro de texto que sempre que encontrar no texto fonte uma palavra repetida elimina as repetições, ou seja, substitui a lista de palavras por 1 só palavra."
      ]
    },
    {
      "cell_type": "code",
      "execution_count": 375,
      "metadata": {
        "id": "YZxTwl0C6v2b"
      },
      "outputs": [
        {
          "name": "stdout",
          "output_type": "stream",
          "text": [
            "Qual é a cor do cavalo branco de Napoleão?\n"
          ]
        }
      ],
      "source": [
        "texto = \"Qual Qual é a cor do cavalo cavalo branco de Napoleão Napoleão?\"\n",
        "\n",
        "def remove_dup(text: str):\n",
        "    return re.sub(r\"\\b(\\w+)\\b\\s+\\1\", r\"\\1\", text)\n",
        "\n",
        "print(remove_dup(texto))"
      ]
    }
  ],
  "metadata": {
    "colab": {
      "provenance": []
    },
    "kernelspec": {
      "display_name": "Python 3",
      "name": "python3"
    },
    "language_info": {
      "codemirror_mode": {
        "name": "ipython",
        "version": 3
      },
      "file_extension": ".py",
      "mimetype": "text/x-python",
      "name": "python",
      "nbconvert_exporter": "python",
      "pygments_lexer": "ipython3",
      "version": "3.10.7"
    }
  },
  "nbformat": 4,
  "nbformat_minor": 0
}
