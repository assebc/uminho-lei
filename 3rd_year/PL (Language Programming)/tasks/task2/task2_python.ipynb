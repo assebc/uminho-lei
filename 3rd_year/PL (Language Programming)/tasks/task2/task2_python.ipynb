{
 "cells": [
  {
   "attachments": {},
   "cell_type": "markdown",
   "metadata": {},
   "source": [
    "# Ficha 0 - Expressões Regulares\n"
   ]
  },
  {
   "attachments": {},
   "cell_type": "markdown",
   "metadata": {},
   "source": [
    "## Exercício 1\n",
    "\n",
    "Para cada uma das seguintes expressões regulares sobre o alfabeto, tente descrever a linguagem que é gerada, dando exemplos de frases que pertençam a essa linguagem:"
   ]
  },
  {
   "cell_type": "code",
   "execution_count": 5,
   "metadata": {},
   "outputs": [],
   "source": [
    "import re\n",
    "\n",
    "def exercise1():\n",
    "  t1 = \"(a|b)*\"\n",
    "  t2 = \"a* + \"\n",
    "  t3 = \"(ab)+a*\"\n",
    "  t4 = \"a(a+b)*b\"\n",
    "  t5 = \"a+b*\""
   ]
  },
  {
   "attachments": {},
   "cell_type": "markdown",
   "metadata": {},
   "source": [
    "## Exercício 2\n",
    "\n",
    "Dê exemplos de frases de comprimento mínimo, sobre o alfabeto que não pertencem à linguagem representada por cada uma das seguintes expressões regulares:"
   ]
  },
  {
   "cell_type": "code",
   "execution_count": null,
   "metadata": {},
   "outputs": [],
   "source": [
    "def exercise2():\n",
    "  t1 = \"a*+b*+c*\"\n",
    "  t2 = \"a*(ba)*b*\"\n",
    "  t3 = \"a*(b++c+)a*\""
   ]
  },
  {
   "cell_type": "markdown",
   "metadata": {},
   "source": [
    "## Exercício 3\n",
    "\n",
    "A frase \"abacfeebda\" pertence à linguagem definida por er? Se sim, justifique."
   ]
  },
  {
   "cell_type": "code",
   "execution_count": 18,
   "metadata": {},
   "outputs": [
    {
     "data": {
      "text/plain": [
       "[]"
      ]
     },
     "execution_count": 18,
     "metadata": {},
     "output_type": "execute_result"
    }
   ],
   "source": [
    "def exercise3():\n",
    "  er = r\"(ab)+c(d + fe | b)*a\"\n",
    "  line = \"abacfeebda\"\n",
    "  return re.findall(er,line)\n",
    "\n",
    "exercise3()"
   ]
  }
 ],
 "metadata": {
  "kernelspec": {
   "display_name": "Python 3",
   "language": "python",
   "name": "python3"
  },
  "language_info": {
   "codemirror_mode": {
    "name": "ipython",
    "version": 3
   },
   "file_extension": ".py",
   "mimetype": "text/x-python",
   "name": "python",
   "nbconvert_exporter": "python",
   "pygments_lexer": "ipython3",
   "version": "3.10.7"
  },
  "orig_nbformat": 4,
  "vscode": {
   "interpreter": {
    "hash": "865d8b2eb28e274047ba64063dfb6a2aabf0dfec4905d304d7a76618dae6fdd4"
   }
  }
 },
 "nbformat": 4,
 "nbformat_minor": 2
}
