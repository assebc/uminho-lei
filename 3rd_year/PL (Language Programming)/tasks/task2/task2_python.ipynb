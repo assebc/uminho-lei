{
 "cells": [
  {
   "attachments": {},
   "cell_type": "markdown",
   "metadata": {},
   "source": [
    "# Ficha 0 - Expressões Regulares\n"
   ]
  },
  {
   "attachments": {},
   "cell_type": "markdown",
   "metadata": {},
   "source": [
    "## Exercício 1\n",
    "\n",
    "Para cada uma das seguintes expressões regulares sobre o alfabeto, tente descrever a linguagem que é gerada, dando exemplos de frases que pertençam a essa linguagem:"
   ]
  },
  {
   "cell_type": "code",
   "execution_count": 19,
   "metadata": {},
   "outputs": [],
   "source": [
    "import re\n",
    "\n",
    "def exercise1():\n",
    "  t1 = \"(a|b)*\"\n",
    "  t2 = \"a* + E\"\n",
    "  t3 = \"(ab)+a*\"\n",
    "  t4 = \"a(a|b)*b\"\n",
    "  t5 = \"a+b*\""
   ]
  },
  {
   "attachments": {},
   "cell_type": "markdown",
   "metadata": {},
   "source": [
    "### Respostas\n",
    "\n",
    "#### t1 : qualquer string composta somente por a's ou por b's e também strings com a's e b's sem qualquer tipo de ordem, permitindo permutação, alternancia e blocos.\n",
    "\n",
    "#### t2 : qualquer string que só possua a's ou epsilon\n",
    "\n",
    "#### t3 : qualquer string inicializada com \"ab\" e finalizando com uma sequencia de a's\n",
    "\n",
    "#### t4 : qualquer string que é inicializada por 1 a e finalizada com 1 b e no centro qualquer string com padrão que possui apenas a's ou b's seguindo o raciocínio em t1\n",
    "\n",
    "#### t5 : qualquer string incializada por 1 a e finaliza a string com uma sequência de b's arbitrária"
   ]
  },
  {
   "attachments": {},
   "cell_type": "markdown",
   "metadata": {},
   "source": [
    "## Exercício 2\n",
    "\n",
    "Dê exemplos de frases de comprimento mínimo, sobre o alfabeto que não pertencem à linguagem representada por cada uma das seguintes expressões regulares:"
   ]
  },
  {
   "cell_type": "code",
   "execution_count": 23,
   "metadata": {},
   "outputs": [],
   "source": [
    "def exercise2():\n",
    "  t1 = \"a*+b*+c*\"\n",
    "  t2 = \"a*(ba)*b*\"\n",
    "  t3 = \"a*(b|c)+a*\""
   ]
  },
  {
   "attachments": {},
   "cell_type": "markdown",
   "metadata": {},
   "source": [
    "### Respostas\n",
    "\n",
    "#### t1 : qualquer string composta por três sub-strings ordenadas, sendo elas a's, b's e c's\n",
    "\n",
    "#### t2 : qualquer string inicializada por uma sequência de a's, seguida de uma sequência de ba's necessariamente por esta ordem e finalizando por uma sequência de c's\n",
    "\n",
    "#### t3 : qualquer string incializada por uma sequência de a's seguida obrigatoriamente por uma sequência de b's ou c's, finalizando com umasequência de a's"
   ]
  },
  {
   "cell_type": "markdown",
   "metadata": {},
   "source": [
    "## Exercício 3\n",
    "\n",
    "A frase \"abacfeebda\" pertence à linguagem definida por er? Se sim, justifique."
   ]
  },
  {
   "cell_type": "code",
   "execution_count": 20,
   "metadata": {},
   "outputs": [
    {
     "data": {
      "text/plain": [
       "[]"
      ]
     },
     "execution_count": 20,
     "metadata": {},
     "output_type": "execute_result"
    }
   ],
   "source": [
    "def exercise3():\n",
    "  er = r\"(ab)+c(d + fe | b)*a\"\n",
    "  line = \"abacfeebda\"\n",
    "  return re.findall(er,line)\n",
    "\n",
    "exercise3()"
   ]
  },
  {
   "attachments": {},
   "cell_type": "markdown",
   "metadata": {},
   "source": [
    "### Resposta\n",
    "\n",
    "#### a variável er tem que ser incializada por \"ab\" ou por uma sequência de \"ab\"'s, 1 'c', seguidamente ou uma sequência de d's ou um f, uma sequência obrigatória de e's finalizando com b. Por fim é obrigatório a string acabar com 'a'\n"
   ]
  }
 ],
 "metadata": {
  "kernelspec": {
   "display_name": "Python 3",
   "language": "python",
   "name": "python3"
  },
  "language_info": {
   "codemirror_mode": {
    "name": "ipython",
    "version": 3
   },
   "file_extension": ".py",
   "mimetype": "text/x-python",
   "name": "python",
   "nbconvert_exporter": "python",
   "pygments_lexer": "ipython3",
   "version": "3.10.7"
  },
  "orig_nbformat": 4,
  "vscode": {
   "interpreter": {
    "hash": "865d8b2eb28e274047ba64063dfb6a2aabf0dfec4905d304d7a76618dae6fdd4"
   }
  }
 },
 "nbformat": 4,
 "nbformat_minor": 2
}
