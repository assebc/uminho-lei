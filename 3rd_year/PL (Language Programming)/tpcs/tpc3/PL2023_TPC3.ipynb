{
  "cells": [
    {
      "attachments": {},
      "cell_type": "markdown",
      "metadata": {
        "id": "SN6uHpnNH5w4"
      },
      "source": [
        "# TPC3: Processador de Pessoas listadas nos Róis de Confessados\n",
        "\n",
        "Construa agora um ou vários programas Python\n",
        "para  processar o texto 'processos.txt' (procurar o ficheiro no Bb) com o intuito de\n",
        "calcular frequências de alguns elementos (a ideia é utilizar arrays associativos, dicionários em Python,\n",
        "para o efeito) conforme solicitado a seguir:\n",
        "\n",
        "> a) Calcula a frequência de processos por ano (primeiro elemento da data);\n",
        "\n",
        "> b) Calcula a frequência de nomes próprios (o primeiro em cada nome) e apelidos (o ultimo em cada nome) por séculos e apresenta os 5 mais usados;\n",
        "\n",
        "> c) Calcula a frequência dos vários tipos de relação: irmão, sobrinho, etc.;\n",
        "\n",
        "> d) Converta os 20 primeiros registos num novo ficheiro de output mas em formato **Json**.\n",
        "\n",
        "\n"
      ]
    },
    {
      "cell_type": "markdown",
      "metadata": {},
      "source": [
        "# Init"
      ]
    },
    {
      "cell_type": "code",
      "execution_count": 1,
      "metadata": {},
      "outputs": [],
      "source": [
        "import re\n",
        "import json\n",
        "\n",
        "def split_first_last_name(name):\n",
        "    return re.match(r\"\\w+\\b\", name).group(), re.search(r\"\\b\\w+$\", name).group()\n",
        "\n",
        "def parse(path):\n",
        "  file = open(path)\n",
        "  regex_str = r\"(?P<dir>\\d+)::(?P<year>\\d{4})-(?P<month>\\d{2})-(?P<day>\\d{2})::(?P<name>[a-zA-Z ]+)::(?P<father>[a-zA-Z ]+)::(?P<mother>[a-zA-Z ]+)::(?P<obs>[^:]*)::\"\n",
        "  res = []\n",
        "  regex = re.compile(regex_str)\n",
        "  for line in file.readlines():\n",
        "    if match := regex.finditer(line):\n",
        "      res = res + [m.groupdict() for m in match]\n",
        "\n",
        "  return res\n",
        "\n",
        "data = parse(\"processos.txt\")"
      ]
    },
    {
      "attachments": {},
      "cell_type": "markdown",
      "metadata": {},
      "source": [
        "# Exercício a"
      ]
    },
    {
      "cell_type": "code",
      "execution_count": 2,
      "metadata": {},
      "outputs": [
        {
          "name": "stdout",
          "output_type": "stream",
          "text": [
            "{'1894': 74, '1909': 39, '1867': 53, '1896': 69, '1904': 45, '1901': 58, '1883': 34, '1900': 47, '1902': 80, '1880': 61, '1889': 65, '1908': 48, '1869': 38, '1862': 40, '1906': 63, '1856': 71, '1875': 15, '1892': 53, '1733': 1065, '1778': 1035, '1730': 1142, '1899': 77, '1898': 91, '1877': 46, '1910': 27, '1881': 62, '1907': 45, '1884': 42, '1879': 53, '1895': 76, '1897': 68, '1707': 105, '1689': 604, '1713': 263, '1824': 246, '1691': 546, '1703': 133, '1720': 172, '1890': 43, '1732': 2057, '1683': 135, '1863': 28, '1729': 39, '1694': 41, '1754': 300, '1690': 160, '1755': 295, '1823': 207, '1708': 144, '1757': 27, '1699': 85, '1759': 87, '1712': 66, '1687': 85, '1738': 174, '1717': 267, '1704': 166, '1688': 103, '1888': 70, '1734': 788, '1786': 342, '1798': 52, '1773': 477, '1821': 301, '1822': 296, '1809': 289, '1722': 454, '1680': 149, '1684': 227, '1728': 440, '1716': 235, '1849': 115, '1777': 1113, '1851': 65, '1785': 782, '1857': 75, '1686': 176, '1784': 338, '1780': 207, '1727': 167, '1788': 401, '1719': 382, '1847': 126, '1799': 103, '1829': 160, '1787': 709, '1805': 109, '1819': 236, '1844': 191, '1891': 72, '1731': 841, '1760': 273, '1741': 31, '1725': 272, '1802': 88, '1827': 95, '1885': 8, '1807': 579, '1710': 191, '1692': 150, '1706': 108, '1858': 46, '1739': 53, '1826': 166, '1714': 310, '1762': 335, '1743': 53, '1724': 110, '1697': 25, '1852': 73, '1740': 11, '1855': 82, '1723': 127, '1859': 84, '1811': 231, '1817': 200, '1685': 220, '1905': 42, '1893': 77, '1865': 38, '1848': 121, '1911': 16, '1882': 48, '1735': 126, '1871': 35, '1903': 20, '1850': 112, '1825': 152, '1843': 285, '1860': 70, '1812': 253, '1846': 85, '1845': 121, '1701': 103, '1746': 48, '1868': 21, '1715': 86, '1803': 163, '1830': 168, '1761': 372, '1766': 9, '1876': 39, '1698': 150, '1672': 12, '1726': 85, '1679': 77, '1750': 51, '1711': 68, '1810': 45, '1721': 133, '1831': 188, '1781': 202, '1818': 227, '1816': 342, '1783': 299, '1752': 80, '1866': 33, '1747': 55, '1771': 26, '1700': 76, '1682': 99, '1794': 55, '1742': 22, '1887': 40, '1836': 3, '1878': 76, '1873': 45, '1886': 44, '1702': 134, '1767': 14, '1709': 143, '1779': 189, '1751': 107, '1681': 91, '1748': 44, '1678': 9, '1839': 82, '1770': 25, '1673': 18, '1792': 44, '1796': 86, '1828': 169, '1736': 46, '1737': 53, '1696': 25, '1853': 89, '1772': 122, '1718': 90, '1776': 35, '1804': 119, '1774': 37, '1832': 289, '1806': 106, '1820': 243, '1854': 109, '1861': 58, '1833': 189, '1841': 44, '1695': 36, '1705': 69, '1872': 42, '1874': 44, '1782': 149, '1693': 26, '1808': 297, '1838': 10, '1797': 44, '1660': 1, '1870': 12, '1864': 53, '1744': 39, '1800': 107, '1655': 2, '1795': 55, '1840': 34, '1764': 22, '1763': 28, '1676': 8, '1768': 24, '1753': 36, '1842': 36, '1671': 13, '1801': 56, '1814': 11, '1756': 70, '1815': 44, '1749': 25, '1775': 29, '1745': 46, '1834': 11, '1769': 16, '1793': 45, '1665': 2, '1813': 12, '1635': 1, '1616': 1, '1791': 6, '1758': 20, '1664': 5, '1789': 12, '1765': 8, '1631': 1, '1675': 7, '1677': 4, '1666': 6, '1663': 3, '1674': 1, '1668': 5, '1661': 1, '1628': 5, '1670': 3, '1633': 1, '1669': 2, '1636': 1, '1667': 1, '1630': 2, '1634': 1, '1656': 1, '1620': 1, '1622': 1, '1623': 2, '1625': 1, '1627': 2, '1790': 1, '1658': 1, '1650': 1, '1662': 1, '1632': 1}\n"
          ]
        }
      ],
      "source": [
        "def group_by_year(data):\n",
        "  res = {}\n",
        "  for entry in data:\n",
        "    if entry[\"year\"] not in res:\n",
        "      res[entry[\"year\"]] = 0\n",
        "    \n",
        "    res[entry[\"year\"]] += 1\n",
        "  \n",
        "  return res\n",
        "\n",
        "print(group_by_year(data))"
      ]
    },
    {
      "attachments": {},
      "cell_type": "markdown",
      "metadata": {},
      "source": [
        "# Exercício b"
      ]
    },
    {
      "cell_type": "code",
      "execution_count": 24,
      "metadata": {},
      "outputs": [
        {
          "name": "stdout",
          "output_type": "stream",
          "text": [
            "({0: [], 1: [], 2: [], 3: [], 4: [], 5: [], 6: [], 7: [], 8: [], 9: [], 10: [], 11: [], 12: [], 13: [], 14: [], 15: [], 16: [], 17: [('Maria', 1161), ('Joao', 940), ('Antonio', 802), ('Manuel', 763), ('Francisco', 688)], 18: [('Manuel', 7103), ('Maria', 6188), ('Joao', 5819), ('Antonio', 5468), ('Francisco', 3800)], 19: [('Jose', 3738), ('Maria', 3589), ('Antonio', 3530), ('Manuel', 3390), ('Joao', 2538)], 20: [('Antonio', 197), ('Manuel', 161), ('Jose', 155), ('Maria', 153), ('Joao', 95)], 21: []}, {0: [], 1: [], 2: [], 3: [], 4: [], 5: [], 6: [], 7: [], 8: [], 9: [], 10: [], 11: [], 12: [], 13: [], 14: [], 15: [], 16: [], 17: [('Goncalves', 567), ('Fernandes', 397), ('Rodrigues', 349), ('Silva', 307), ('Pereira', 290)], 18: [('Goncalves', 2511), ('Pereira', 2376), ('Silva', 2255), ('Rodrigues', 2173), ('Costa', 1947)], 19: [('Silva', 1289), ('Pereira', 1157), ('Costa', 976), ('Sousa', 783), ('Goncalves', 770)], 20: [('Silva', 79), ('Costa', 53), ('Pereira', 43), ('Fernandes', 40), ('Oliveira', 35)], 21: []})\n",
            "([('Manuel', 11417), ('Maria', 11091), ('Antonio', 9997), ('Joao', 9392), ('Francisco', 4488)], [('Silva', 3930), ('Pereira', 3866), ('Goncalves', 3848), ('Costa', 2976), ('Rodrigues', 2522)])\n"
          ]
        }
      ],
      "source": [
        "def top5_names_freq(data,century, idx):\n",
        "  names = {}\n",
        "  \n",
        "  for entry in data:\n",
        "    if (int(entry[\"year\"]) - 1) // 100 + 1 == century:\n",
        "      name = split_first_last_name(entry[\"name\"])\n",
        "      if name[idx] not in names:\n",
        "        names[name[idx]] = 0\n",
        "\n",
        "      names[name[idx]] += 1\n",
        "\n",
        "      father = split_first_last_name(entry[\"father\"])\n",
        "      if father[idx] not in names:\n",
        "        names[father[idx]] = 0\n",
        "\n",
        "      names[father[idx]] += 1\n",
        "\n",
        "      mother = split_first_last_name(entry[\"mother\"])\n",
        "      if mother[idx] not in names:\n",
        "          names[mother[idx]] = 0\n",
        "\n",
        "      names[mother[idx]] += 1\n",
        "  res = sorted(names.items(), key=lambda x:x[1], reverse=True)[:5]\n",
        "  return res\n",
        "\n",
        "def top5_names_freq_century(data):\n",
        "  first_name = {}\n",
        "  last_name = {}\n",
        "  for i in range(0,22):\n",
        "    first_name[i] = top5_names_freq(data,i,0)\n",
        "    last_name[i] = top5_names_freq(data,i,1)\n",
        "\n",
        "  return first_name, last_name\n",
        "\n",
        "def top5_names_freq_all(data):\n",
        "  first_name, last_name  = top5_names_freq_century(data)\n",
        "  sum_first_name = {}\n",
        "  sum_last_name = {}\n",
        "  aux = []\n",
        "\n",
        "  for lst in first_name.values():\n",
        "    aux.extend(lst)\n",
        "    for k, v in lst:\n",
        "      if k not in sum_first_name:\n",
        "        sum_first_name[k] = v\n",
        "      else:\n",
        "        sum_first_name[k] += v\n",
        "    \n",
        "  aux.clear()\n",
        "\n",
        "  for lst in last_name.values():\n",
        "    aux.extend(lst)\n",
        "    for k, v in lst:\n",
        "      if k not in sum_last_name:\n",
        "        sum_last_name[k] = v\n",
        "      else:\n",
        "        sum_last_name[k] += v\n",
        "\n",
        "  f_names = sorted(sum_first_name.items(), key=lambda x:x[1], reverse=True)[:5]\n",
        "  l_names = sorted(sum_last_name.items(), key=lambda x:x[1], reverse=True)[:5]\n",
        "  return f_names, l_names\n",
        "  \n",
        "\n",
        "print(top5_names_freq_century(data))\n",
        "print(top5_names_freq_all(data))\n",
        "\n"
      ]
    },
    {
      "attachments": {},
      "cell_type": "markdown",
      "metadata": {},
      "source": [
        "# Exercício c"
      ]
    },
    {
      "cell_type": "code",
      "execution_count": 4,
      "metadata": {},
      "outputs": [
        {
          "name": "stdout",
          "output_type": "stream",
          "text": [
            "{'tio paterno': 1180, 'irmao': 8856, 'tio materno': 614, 'sobrinho materno': 732, 'sobrinho paterno': 885, 'filho': 172, 'sobrinhos paternos': 29, 'sobrinho neto paterno': 60, 'primo paterno': 93, 'irmaos': 392, 'primo': 364, 'tio avo paterno': 30, 'irmao paterno': 189, 'sobrinho bisneto paterno': 3, 'sobrinhos maternos': 31, 'sobrinho neto materno': 67, 'pai': 156, 'neto materno': 12, 'tio avo materno': 20, 'irmao materno': 28, 'neto paterno': 5, 'primo materno': 49, 'avo materno': 8, 'primos': 6, 'filhos': 7, 'irmaos maternos': 3, 'irmaos paternos': 3, 'sobrinhos netos paternos': 2, 'parente': 1, 'tio bisavo paterno': 1, 'avo paterno': 5, 'primos maternos': 1, 'sobrinho bisneto materno': 1, 'tio avo': 1, 'sobrinhos netos maternos': 1}\n"
          ]
        }
      ],
      "source": [
        "def freq_relation(data):\n",
        "  pattern = re.compile(r\",[^\\s*\\d+][\\w\\s]*.[\\s*](?i:Proc.)\")\n",
        "  res = {}\n",
        "  for entry in data:\n",
        "    if match := pattern.search(entry[\"obs\"]):\n",
        "      match = match.group().lower()\n",
        "      match = match[1:-7]\n",
        "      if match not in res:\n",
        "        res[match] = 0\n",
        "\n",
        "      res[match.lower()] += 1\n",
        "\n",
        "  return res\n",
        "\n",
        "print(freq_relation(data))\n"
      ]
    },
    {
      "attachments": {},
      "cell_type": "markdown",
      "metadata": {},
      "source": [
        "# Exercício d"
      ]
    },
    {
      "cell_type": "code",
      "execution_count": 6,
      "metadata": {},
      "outputs": [],
      "source": [
        "def to_json(data, out_file):\n",
        "  if \".json\" not in out_file:\n",
        "    out_file = out_file + \".json\"\n",
        "\n",
        "  file = open(out_file, \"w\")\n",
        "  file.write(\"[\\n\")\n",
        "  for i in range(0,20):\n",
        "    json.dump(data[i], file, indent=4, separators=(',', ': '))  \n",
        "    if i != 19: file.write(\",\\n\")\n",
        "  file.write(\"\\n]\")\n",
        "\n",
        "  file.close()\n",
        "\n",
        "to_json(data,\"teste\")"
      ]
    }
  ],
  "metadata": {
    "colab": {
      "provenance": []
    },
    "kernelspec": {
      "display_name": "Python 3",
      "language": "python",
      "name": "python3"
    },
    "language_info": {
      "codemirror_mode": {
        "name": "ipython",
        "version": 3
      },
      "file_extension": ".py",
      "mimetype": "text/x-python",
      "name": "python",
      "nbconvert_exporter": "python",
      "pygments_lexer": "ipython3",
      "version": "3.10.7"
    },
    "vscode": {
      "interpreter": {
        "hash": "865d8b2eb28e274047ba64063dfb6a2aabf0dfec4905d304d7a76618dae6fdd4"
      }
    }
  },
  "nbformat": 4,
  "nbformat_minor": 0
}
