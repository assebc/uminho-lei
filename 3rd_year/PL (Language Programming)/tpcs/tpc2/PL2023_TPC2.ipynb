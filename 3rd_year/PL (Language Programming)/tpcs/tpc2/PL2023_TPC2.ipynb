{
  "cells": [
    {
      "attachments": {},
      "cell_type": "markdown",
      "metadata": {
        "id": "0JpXqXdRLYK6"
      },
      "source": [
        "# TPC2: Somador on/off\n",
        "\n",
        "Crie um programa em Python que tenha o seguinte comportamento:\n",
        "\n",
        "  * Pretende-se um programa que some todas as sequências de dígitos que encontre num texto;\n",
        "  * Prepare o programa para ler o texto do canal de entrada: stdin;\n",
        "  * Sempre que encontrar a string “Off” em qualquer combinação de maiúsculas e minúsculas, esse comportamento é desligado;\n",
        "  * Sempre que encontrar a string “On” em qualquer combinação de maiúsculas e minúsculas, esse comportamento é novamente ligado;\n",
        "  * Sempre que encontrar o caráter “=”, o resultado da soma é colocado na saída.\n"
      ]
    },
    {
      "attachments": {},
      "cell_type": "markdown",
      "metadata": {},
      "source": [
        "# Exercício 1"
      ]
    },
    {
      "cell_type": "code",
      "execution_count": 4,
      "metadata": {},
      "outputs": [
        {
          "name": "stdout",
          "output_type": "stream",
          "text": [
            "116\n",
            "116\n"
          ]
        }
      ],
      "source": [
        "import re\n",
        "\n",
        "def sum_digits(text: str):\n",
        "  return sum(map(int,re.findall(\"\\d+\",text)))\n",
        "\n",
        "def sum_digits_no_regex(text: str):\n",
        "    digit_sum = 0\n",
        "    current_num = ''\n",
        "    for char in text:\n",
        "        if char.isdigit():\n",
        "            current_num += char\n",
        "        else:\n",
        "            if current_num:\n",
        "                digit_sum += int(current_num)\n",
        "                current_num = ''\n",
        "    if current_num:\n",
        "        digit_sum += int(current_num)\n",
        "    return digit_sum\n",
        "\n",
        "# 0 + 100 + 11 + 5 = 116\n",
        "print(sum_digits(\"s0dasd100asdas11db5\"))\n",
        "print(sum_digits_no_regex(\"s0dasd100asdas11db5\"))\n"
      ]
    },
    {
      "attachments": {},
      "cell_type": "markdown",
      "metadata": {},
      "source": [
        "# Exercício 2"
      ]
    },
    {
      "cell_type": "code",
      "execution_count": 18,
      "metadata": {},
      "outputs": [
        {
          "data": {
            "text/plain": [
              "135"
            ]
          },
          "execution_count": 18,
          "metadata": {},
          "output_type": "execute_result"
        }
      ],
      "source": [
        "def stdin_sum_digits():\n",
        "  return sum_digits(input(\"write some text\"))\n",
        "\n",
        "stdin_sum_digits()"
      ]
    },
    {
      "attachments": {},
      "cell_type": "markdown",
      "metadata": {},
      "source": [
        "# Exercício 3"
      ]
    },
    {
      "cell_type": "code",
      "execution_count": 6,
      "metadata": {},
      "outputs": [
        {
          "name": "stdout",
          "output_type": "stream",
          "text": [
            "124\n",
            "124\n"
          ]
        }
      ],
      "source": [
        "def turnOff(text: str):\n",
        "  match = re.search(\"Off\",text)\n",
        "  res = text[:match.start()]\n",
        "  return sum_digits(res)\n",
        "\n",
        "def turnOff_no_regex(text: str):\n",
        "    off_index = text.find(\"Off\")\n",
        "    if off_index == -1:\n",
        "        return 0\n",
        "    return sum_digits(text[:off_index])\n",
        "\n",
        "text = \"Lorem Ipsum 123 sim1ly dummy text Off tHE pri15g AND TYpEStting\"\n",
        "print(turnOff(text))\n",
        "print(turnOff_no_regex(text))\n"
      ]
    },
    {
      "attachments": {},
      "cell_type": "markdown",
      "metadata": {},
      "source": [
        "# Exercício 4"
      ]
    },
    {
      "cell_type": "code",
      "execution_count": 7,
      "metadata": {},
      "outputs": [
        {
          "name": "stdout",
          "output_type": "stream",
          "text": [
            "124\n",
            "124\n"
          ]
        }
      ],
      "source": [
        "def turnOn(text: str):\n",
        "  match = re.search(\"On\",text)\n",
        "  res = text[match.end():]\n",
        "  return sum_digits(res)\n",
        "\n",
        "def turnOn_no_regex(text: str):\n",
        "    on_index = text.find(\"On\")\n",
        "    if on_index == -1:\n",
        "        return 0\n",
        "    return sum_digits(text[on_index:])\n",
        "\n",
        "text = \"Lorem Ip214m is s12ply dummy text On tHE p123Ng AND TYpESt1ing\"\n",
        "print(turnOn(text))\n",
        "print(turnOn_no_regex(text))"
      ]
    },
    {
      "attachments": {},
      "cell_type": "markdown",
      "metadata": {},
      "source": [
        "# Exercício 5"
      ]
    },
    {
      "cell_type": "code",
      "execution_count": 10,
      "metadata": {},
      "outputs": [
        {
          "data": {
            "text/plain": [
              "116"
            ]
          },
          "execution_count": 10,
          "metadata": {},
          "output_type": "execute_result"
        }
      ],
      "source": [
        "def string_calculator(text: str):\n",
        "    if re.search(\"=\",text) != None:\n",
        "        return sum_digits(text)\n",
        "    return None\n",
        "\n",
        "def string_calculator_no_regex(text: str):\n",
        "    if text.find(\"=\") == -1:\n",
        "        return None\n",
        "    return sum_digits(text)\n",
        "\n",
        "# 0 + 100 + 11 + 5 = 116\n",
        "text = \"s0dasd100a=sdas11db5\"\n",
        "string_calculator(text)\n",
        "string_calculator_no_regex(text)"
      ]
    },
    {
      "attachments": {},
      "cell_type": "markdown",
      "metadata": {},
      "source": [
        "# Extra\n",
        "### Calculadora com todas as funcionalidades anteriores\n",
        "\n",
        "Assumindo que recebe sempre uma string importada pelo stdin, e por default, tendo um '=' a função *calculator* devolve a soma dos digitos presentes.\n",
        "Assume-se portanto que o estado inicial será similar à string começar por 'On', obrigado ao primeiro argumento de ativação/desativação ser 'Off'.\n",
        "\n",
        "Esta solução não responde a todas as possibilidades:\n",
        "- caso do off e do on iniciarem por ordem inversa\n",
        "- não garante que funcione para strings que sejam repetição de sequências de On/Off"
      ]
    },
    {
      "cell_type": "code",
      "execution_count": 10,
      "metadata": {},
      "outputs": [
        {
          "data": {
            "text/plain": [
              "25"
            ]
          },
          "execution_count": 10,
          "metadata": {},
          "output_type": "execute_result"
        }
      ],
      "source": [
        "def calculator(text: str):\n",
        "    if text== \"\" :\n",
        "        text = input(\"insert your text\")\n",
        "\n",
        "    pattern = \"(?<!Off\\s)\\d+(?!\\sOn)\" \n",
        "    # every char behind Off its counter so it will sum all digits \n",
        "    # every digit in between Off and next On it wont be counted\n",
        "    # every char behind On will not be counted \n",
        "    matches = re.findall(pattern, text)\n",
        "    result = sum_digits(str(matches))\n",
        "    \n",
        "    if \"Off\" in text and \"On\" in text:\n",
        "        off_index = text.index(\"Off\")\n",
        "        on_index = text.index(\"On\")\n",
        "        digits_between_off_on = re.findall(\"\\d+\", text[off_index:on_index])\n",
        "        result -= sum(int(d) for d in digits_between_off_on)\n",
        "    \n",
        "    return result\n",
        "\n",
        "\n",
        "# \"absdIASUDHA5asda10=Offasdasd123On10\" = 25\n",
        "calculator(\"\")"
      ]
    }
  ],
  "metadata": {
    "colab": {
      "provenance": []
    },
    "kernelspec": {
      "display_name": "Python 3",
      "language": "python",
      "name": "python3"
    },
    "language_info": {
      "codemirror_mode": {
        "name": "ipython",
        "version": 3
      },
      "file_extension": ".py",
      "mimetype": "text/x-python",
      "name": "python",
      "nbconvert_exporter": "python",
      "pygments_lexer": "ipython3",
      "version": "3.10.7"
    },
    "vscode": {
      "interpreter": {
        "hash": "865d8b2eb28e274047ba64063dfb6a2aabf0dfec4905d304d7a76618dae6fdd4"
      }
    }
  },
  "nbformat": 4,
  "nbformat_minor": 0
}
