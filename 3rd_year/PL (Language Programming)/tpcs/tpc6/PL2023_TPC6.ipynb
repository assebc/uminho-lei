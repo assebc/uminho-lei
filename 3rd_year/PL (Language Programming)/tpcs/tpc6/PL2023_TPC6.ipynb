{
  "cells": [
    {
      "cell_type": "markdown",
      "metadata": {
        "id": "c5SC_FgxHjkm"
      },
      "source": [
        "# TPC6: Analisador Léxico para uma Linguagem de Programação\n",
        "\n",
        "Usando o `Ply` constrói um analisador léxico que devolve a lista de tokens para a linguagem de programação que se exemplifica a seguir.\n",
        "\n",
        "## Exemplo1\n",
        "\n",
        "```\n",
        "/* factorial.p\n",
        "-- 2023-03-20 \n",
        "-- by jcr\n",
        "*/\n",
        "\n",
        "int i;\n",
        "\n",
        "// Função que calcula o factorial dum número n\n",
        "function fact(n){\n",
        "  int res = 1;\n",
        "  while res > 1 {\n",
        "    res = res * n;\n",
        "    res = res - 1;\n",
        "  }\n",
        "}\n",
        "\n",
        "// Programa principal\n",
        "program myFact{\n",
        "  for i in [1..10]{\n",
        "    print(i, fact(i));\n",
        "  }\n",
        "}\n",
        "\n",
        "``` \n",
        "\n",
        "## Exemplo2\n",
        "\n",
        "```\n",
        "/* max.p: calcula o maior inteiro duma lista desordenada\n",
        "-- 2023-03-20 \n",
        "-- by jcr\n",
        "*/\n",
        "\n",
        "int i = 10, a[10] = {1,2,3,4,5,6,7,8,9,10};\n",
        "\n",
        "// Programa principal\n",
        "program myMax{\n",
        "  int max = a[0];\n",
        "  for i in [1..9]{\n",
        "    if max < a[i] {\n",
        "      max = a[i];\n",
        "    }\n",
        "  }\n",
        "  print(max);\n",
        "}\n",
        "\n",
        "``` "
      ]
    }
  ],
  "metadata": {
    "colab": {
      "provenance": []
    },
    "kernelspec": {
      "display_name": "Python 3",
      "name": "python3"
    },
    "language_info": {
      "name": "python"
    }
  },
  "nbformat": 4,
  "nbformat_minor": 0
}
